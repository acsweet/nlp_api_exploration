{
 "cells": [
  {
   "cell_type": "markdown",
   "id": "c3c7ac05",
   "metadata": {},
   "source": [
    "# Getting Started\n",
    "- following the docs: https://platform.openai.com/docs/libraries\n",
    "- chat: https://platform.openai.com/docs/guides/chat"
   ]
  },
  {
   "cell_type": "code",
   "execution_count": 7,
   "id": "697e5bf7",
   "metadata": {},
   "outputs": [],
   "source": [
    "import os, time\n",
    "import openai\n",
    "\n",
    "openai.api_key = os.environ.get('OPENAI_API_KEY')"
   ]
  },
  {
   "cell_type": "code",
   "execution_count": 8,
   "id": "7ef3903f",
   "metadata": {},
   "outputs": [
    {
     "name": "stdout",
     "output_type": "stream",
     "text": [
      "received response after 8.504036903381348 seconds\n"
     ]
    }
   ],
   "source": [
    "start_time = time.time()\n",
    "\n",
    "response = openai.ChatCompletion.create(\n",
    "  model=\"gpt-3.5-turbo\",\n",
    "  messages=[\n",
    "        {\"role\": \"system\", \"content\": \"You are a helpful assistant.\"},\n",
    "        {\"role\": \"user\", \"content\": \"How would I write an api endpoint in Rust?\"}\n",
    "    ]\n",
    ")\n",
    "\n",
    "print(f'received response after {time.time() - start_time} seconds')"
   ]
  },
  {
   "cell_type": "code",
   "execution_count": 9,
   "id": "eac987f3",
   "metadata": {},
   "outputs": [
    {
     "data": {
      "text/plain": [
       "<OpenAIObject chat.completion id=chatcmpl-6zCfqMmeTwYWZtUoCg0IMdumJjtJl at 0x121eb2ca0> JSON: {\n",
       "  \"choices\": [\n",
       "    {\n",
       "      \"finish_reason\": \"stop\",\n",
       "      \"index\": 0,\n",
       "      \"message\": {\n",
       "        \"content\": \"To create an API endpoint in Rust, you would typically use a web framework like Rocket or actix-web. Here's an example using Rocket:\\n\\n```\\n#![feature(proc_macro_hygiene, decl_macro)]\\n#[macro_use] extern crate rocket;\\n\\n#[get(\\\"/hello\\\")]\\nfn hello() -> &'static str {\\n    \\\"Hello, World!\\\"\\n}\\n\\nfn main() {\\n    rocket::ignite().mount(\\\"/\\\", routes![hello]).launch();\\n}\\n```\\n\\nIn this example, we define a function called `hello` that returns a string. Then, we use the `rocket` crate to mount that function as a route using the `routes!` macro.\\n\\nWhen the user navigates to `http://localhost:8000/hello`, they will see the \\\"Hello, World!\\\" message.\",\n",
       "        \"role\": \"assistant\"\n",
       "      }\n",
       "    }\n",
       "  ],\n",
       "  \"created\": 1680044746,\n",
       "  \"id\": \"chatcmpl-6zCfqMmeTwYWZtUoCg0IMdumJjtJl\",\n",
       "  \"model\": \"gpt-3.5-turbo-0301\",\n",
       "  \"object\": \"chat.completion\",\n",
       "  \"usage\": {\n",
       "    \"completion_tokens\": 158,\n",
       "    \"prompt_tokens\": 29,\n",
       "    \"total_tokens\": 187\n",
       "  }\n",
       "}"
      ]
     },
     "execution_count": 9,
     "metadata": {},
     "output_type": "execute_result"
    }
   ],
   "source": [
    "response"
   ]
  },
  {
   "cell_type": "code",
   "execution_count": 18,
   "id": "9310c15c",
   "metadata": {},
   "outputs": [
    {
     "name": "stdout",
     "output_type": "stream",
     "text": [
      "To create an API endpoint in Rust, you would typically use a web framework like Rocket or actix-web. Here's an example using Rocket:\n",
      "\n",
      "```\n",
      "#![feature(proc_macro_hygiene, decl_macro)]\n",
      "#[macro_use] extern crate rocket;\n",
      "\n",
      "#[get(\"/hello\")]\n",
      "fn hello() -> &'static str {\n",
      "    \"Hello, World!\"\n",
      "}\n",
      "\n",
      "fn main() {\n",
      "    rocket::ignite().mount(\"/\", routes![hello]).launch();\n",
      "}\n",
      "```\n",
      "\n",
      "In this example, we define a function called `hello` that returns a string. Then, we use the `rocket` crate to mount that function as a route using the `routes!` macro.\n",
      "\n",
      "When the user navigates to `http://localhost:8000/hello`, they will see the \"Hello, World!\" message.\n"
     ]
    }
   ],
   "source": [
    "print(response.choices[0].message.content)"
   ]
  },
  {
   "cell_type": "code",
   "execution_count": null,
   "id": "41d74bb7",
   "metadata": {},
   "outputs": [],
   "source": []
  }
 ],
 "metadata": {
  "kernelspec": {
   "display_name": "Python 3 (ipykernel)",
   "language": "python",
   "name": "python3"
  },
  "language_info": {
   "codemirror_mode": {
    "name": "ipython",
    "version": 3
   },
   "file_extension": ".py",
   "mimetype": "text/x-python",
   "name": "python",
   "nbconvert_exporter": "python",
   "pygments_lexer": "ipython3",
   "version": "3.10.9"
  }
 },
 "nbformat": 4,
 "nbformat_minor": 5
}
