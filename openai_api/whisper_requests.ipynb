{
 "cells": [
  {
   "cell_type": "markdown",
   "id": "15b18d4d",
   "metadata": {},
   "source": [
    "# Getting Started\n",
    "Docs: https://platform.openai.com/docs/guides/speech-to-text"
   ]
  },
  {
   "cell_type": "code",
   "execution_count": 2,
   "id": "e2137f74",
   "metadata": {},
   "outputs": [],
   "source": [
    "import os, time\n",
    "import requests\n",
    "from ipywebrtc import AudioRecorder, CameraStream\n",
    "from IPython.display import Audio\n",
    "\n",
    "openai_api_key = os.environ.get('OPENAI_API_KEY')"
   ]
  },
  {
   "cell_type": "markdown",
   "id": "f47671b1",
   "metadata": {},
   "source": [
    "### The folloing cell will allow you to record your own audio"
   ]
  },
  {
   "cell_type": "code",
   "execution_count": 15,
   "id": "2e6f5b23",
   "metadata": {},
   "outputs": [
    {
     "data": {
      "application/vnd.jupyter.widget-view+json": {
       "model_id": "c987242736004a0a8bf9f4660a8be26c",
       "version_major": 2,
       "version_minor": 0
      },
      "text/plain": [
       "AudioRecorder(audio=Audio(value=b'', format='webm'), stream=CameraStream(constraints={'audio': True, 'video': …"
      ]
     },
     "execution_count": 15,
     "metadata": {},
     "output_type": "execute_result"
    }
   ],
   "source": [
    "camera = CameraStream(constraints={'audio': True,'video':False})\n",
    "recorder = AudioRecorder(stream=camera)\n",
    "recorder"
   ]
  },
  {
   "cell_type": "code",
   "execution_count": 3,
   "id": "c09a641b",
   "metadata": {},
   "outputs": [],
   "source": [
    "file_name = 'sample.webm'\n",
    "recorder.save(file_name)"
   ]
  },
  {
   "cell_type": "code",
   "execution_count": 12,
   "id": "34cdbb3d",
   "metadata": {},
   "outputs": [
    {
     "name": "stdout",
     "output_type": "stream",
     "text": [
      "received response after 1.1240489482879639 seconds\n"
     ]
    }
   ],
   "source": [
    "url = 'https://api.openai.com/v1/audio/transcriptions'\n",
    "\n",
    "data = {'model': 'whisper-1'}\n",
    "headers = {'Authorization': f'Bearer {openai_api_key}'}\n",
    "\n",
    "with open(file_name, 'rb') as fobj:\n",
    "    start_time = time.time()\n",
    "    files=[\n",
    "        ('file', (file_name, fobj, 'application/octet-stream'))\n",
    "    ]\n",
    "    response = requests.request('POST', url, headers=headers, data=data, files=files)\n",
    "    print(f'received response after {time.time() - start_time} seconds')\n"
   ]
  },
  {
   "cell_type": "code",
   "execution_count": 16,
   "id": "21cfb995",
   "metadata": {},
   "outputs": [
    {
     "data": {
      "text/plain": [
       "{'text': 'This is a test.'}"
      ]
     },
     "execution_count": 16,
     "metadata": {},
     "output_type": "execute_result"
    }
   ],
   "source": [
    "response.json()"
   ]
  },
  {
   "cell_type": "code",
   "execution_count": 17,
   "id": "cb960219",
   "metadata": {},
   "outputs": [
    {
     "name": "stdout",
     "output_type": "stream",
     "text": [
      "This is a test.\n"
     ]
    }
   ],
   "source": [
    "print(response.json()['text'])"
   ]
  },
  {
   "cell_type": "code",
   "execution_count": null,
   "id": "435735e9",
   "metadata": {},
   "outputs": [],
   "source": []
  }
 ],
 "metadata": {
  "kernelspec": {
   "display_name": "Python 3 (ipykernel)",
   "language": "python",
   "name": "python3"
  },
  "language_info": {
   "codemirror_mode": {
    "name": "ipython",
    "version": 3
   },
   "file_extension": ".py",
   "mimetype": "text/x-python",
   "name": "python",
   "nbconvert_exporter": "python",
   "pygments_lexer": "ipython3",
   "version": "3.10.9"
  }
 },
 "nbformat": 4,
 "nbformat_minor": 5
}
