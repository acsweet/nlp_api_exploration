{
 "cells": [
  {
   "cell_type": "markdown",
   "id": "fea9bfca",
   "metadata": {},
   "source": [
    "# Getting Started\n",
    "- following the docs: https://platform.openai.com/docs/libraries\n",
    "- chat: https://platform.openai.com/docs/guides/chat"
   ]
  },
  {
   "cell_type": "code",
   "execution_count": 1,
   "id": "697e5bf7",
   "metadata": {},
   "outputs": [],
   "source": [
    "import os, time\n",
    "import requests\n",
    "\n",
    "openai_api_key = os.environ.get('OPENAI_API_KEY')"
   ]
  },
  {
   "cell_type": "code",
   "execution_count": 3,
   "id": "82226307",
   "metadata": {},
   "outputs": [],
   "source": [
    "url = 'https://api.openai.com/v1/chat/completions'\n",
    "body = {\n",
    "    \"model\": \"gpt-3.5-turbo\",\n",
    "    \"messages\": [\n",
    "        {\"role\": \"system\", \"content\": \"You are a helpful assistant.\"},\n",
    "        {\"role\": \"user\", \"content\": \"How would I write an api endpoint in Rust?\"}\n",
    "    ]\n",
    "}\n",
    "headers = {\"Authorization\": f\"Bearer {openai_api_key}\"}"
   ]
  },
  {
   "cell_type": "code",
   "execution_count": 6,
   "id": "7ef3903f",
   "metadata": {},
   "outputs": [
    {
     "name": "stdout",
     "output_type": "stream",
     "text": [
      "received response after 14.890416860580444 seconds\n"
     ]
    }
   ],
   "source": [
    "start_time = time.time()\n",
    "\n",
    "response = requests.post(url, json=body, headers=headers)\n",
    "\n",
    "print(f'received response after {time.time() - start_time} seconds')"
   ]
  },
  {
   "cell_type": "code",
   "execution_count": 9,
   "id": "eac987f3",
   "metadata": {},
   "outputs": [
    {
     "data": {
      "text/plain": [
       "{'id': 'chatcmpl-6zCmfyKwaejwLaI6WspKhvuhMl8TO',\n",
       " 'object': 'chat.completion',\n",
       " 'created': 1680045169,\n",
       " 'model': 'gpt-3.5-turbo-0301',\n",
       " 'usage': {'prompt_tokens': 29, 'completion_tokens': 281, 'total_tokens': 310},\n",
       " 'choices': [{'message': {'role': 'assistant',\n",
       "    'content': 'To write an API endpoint in Rust, you can use the popular web framework called \"Actix-Web\". Here\\'s an example of how you can write a basic API endpoint using Actix-Web:\\n\\n```rust\\nuse actix_web::{get, App, HttpResponse, HttpServer, Responder};\\n\\n#[get(\"/hello/{name}\")]\\nasync fn hello(name: web::Path<String>) -> impl Responder {\\n    let response = format!(\"Hello, {}!\", name);\\n    HttpResponse::Ok().body(response)\\n}\\n\\n#[actix_rt::main]\\nasync fn main() -> std::io::Result<()> {\\n    HttpServer::new(|| {\\n        App::new().service(hello)\\n    })\\n    .bind(\"127.0.0.1:8080\")?\\n    .run()\\n    .await\\n}\\n```\\n\\nIn this example, we define an HTTP GET route called `/hello/{name}` which takes a parameter named \"name\". When the endpoint is called, it returns a simple JSON response using the `HttpResponse` type.\\n\\nTo run the server, run the `main` function. The server will listen for incoming HTTP requests on `127.0.0.1:8080`.\\n\\nYou may also want to add more routes and handlers to handle different HTTP methods and endpoints. Actix-Web provides several helper macros to make it easy to define these routes and handlers.'},\n",
       "   'finish_reason': 'stop',\n",
       "   'index': 0}]}"
      ]
     },
     "execution_count": 9,
     "metadata": {},
     "output_type": "execute_result"
    }
   ],
   "source": [
    "response.json()"
   ]
  },
  {
   "cell_type": "code",
   "execution_count": 11,
   "id": "816cf194",
   "metadata": {},
   "outputs": [
    {
     "name": "stdout",
     "output_type": "stream",
     "text": [
      "To write an API endpoint in Rust, you can use the popular web framework called \"Actix-Web\". Here's an example of how you can write a basic API endpoint using Actix-Web:\n",
      "\n",
      "```rust\n",
      "use actix_web::{get, App, HttpResponse, HttpServer, Responder};\n",
      "\n",
      "#[get(\"/hello/{name}\")]\n",
      "async fn hello(name: web::Path<String>) -> impl Responder {\n",
      "    let response = format!(\"Hello, {}!\", name);\n",
      "    HttpResponse::Ok().body(response)\n",
      "}\n",
      "\n",
      "#[actix_rt::main]\n",
      "async fn main() -> std::io::Result<()> {\n",
      "    HttpServer::new(|| {\n",
      "        App::new().service(hello)\n",
      "    })\n",
      "    .bind(\"127.0.0.1:8080\")?\n",
      "    .run()\n",
      "    .await\n",
      "}\n",
      "```\n",
      "\n",
      "In this example, we define an HTTP GET route called `/hello/{name}` which takes a parameter named \"name\". When the endpoint is called, it returns a simple JSON response using the `HttpResponse` type.\n",
      "\n",
      "To run the server, run the `main` function. The server will listen for incoming HTTP requests on `127.0.0.1:8080`.\n",
      "\n",
      "You may also want to add more routes and handlers to handle different HTTP methods and endpoints. Actix-Web provides several helper macros to make it easy to define these routes and handlers.\n"
     ]
    }
   ],
   "source": [
    "print(response.json()['choices'][0]['message']['content'])"
   ]
  },
  {
   "cell_type": "code",
   "execution_count": null,
   "id": "4c155cb9",
   "metadata": {},
   "outputs": [],
   "source": []
  }
 ],
 "metadata": {
  "kernelspec": {
   "display_name": "Python 3 (ipykernel)",
   "language": "python",
   "name": "python3"
  },
  "language_info": {
   "codemirror_mode": {
    "name": "ipython",
    "version": 3
   },
   "file_extension": ".py",
   "mimetype": "text/x-python",
   "name": "python",
   "nbconvert_exporter": "python",
   "pygments_lexer": "ipython3",
   "version": "3.10.9"
  }
 },
 "nbformat": 4,
 "nbformat_minor": 5
}
