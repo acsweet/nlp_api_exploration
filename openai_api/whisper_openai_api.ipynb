{
 "cells": [
  {
   "cell_type": "markdown",
   "id": "15b18d4d",
   "metadata": {},
   "source": [
    "# Getting Started\n",
    "Docs: https://platform.openai.com/docs/guides/speech-to-text"
   ]
  },
  {
   "cell_type": "code",
   "execution_count": 14,
   "id": "e2137f74",
   "metadata": {},
   "outputs": [],
   "source": [
    "import os, time\n",
    "import openai\n",
    "from ipywebrtc import AudioRecorder, CameraStream\n",
    "from IPython.display import Audio\n",
    "\n",
    "openai.api_key = os.environ.get('OPENAI_API_KEY')"
   ]
  },
  {
   "cell_type": "markdown",
   "id": "fb9667ae",
   "metadata": {},
   "source": [
    "### The folloing cell will allow you to record your own audio"
   ]
  },
  {
   "cell_type": "code",
   "execution_count": 15,
   "id": "2e6f5b23",
   "metadata": {},
   "outputs": [
    {
     "data": {
      "application/vnd.jupyter.widget-view+json": {
       "model_id": "c987242736004a0a8bf9f4660a8be26c",
       "version_major": 2,
       "version_minor": 0
      },
      "text/plain": [
       "AudioRecorder(audio=Audio(value=b'', format='webm'), stream=CameraStream(constraints={'audio': True, 'video': …"
      ]
     },
     "execution_count": 15,
     "metadata": {},
     "output_type": "execute_result"
    }
   ],
   "source": [
    "camera = CameraStream(constraints={'audio': True,'video':False})\n",
    "recorder = AudioRecorder(stream=camera)\n",
    "recorder"
   ]
  },
  {
   "cell_type": "code",
   "execution_count": 28,
   "id": "c09a641b",
   "metadata": {},
   "outputs": [],
   "source": [
    "file_name = 'sample.webm'\n",
    "recorder.save(file_name)"
   ]
  },
  {
   "cell_type": "code",
   "execution_count": 29,
   "id": "7c7acfc3",
   "metadata": {},
   "outputs": [],
   "source": [
    "audio_file = open(file_name, 'rb')\n",
    "transcript = openai.Audio.transcribe('whisper-1', audio_file)"
   ]
  },
  {
   "cell_type": "code",
   "execution_count": 30,
   "id": "bf4db8d7",
   "metadata": {},
   "outputs": [
    {
     "data": {
      "text/plain": [
       "<OpenAIObject at 0x1100d3d80> JSON: {\n",
       "  \"text\": \"This is a test.\"\n",
       "}"
      ]
     },
     "execution_count": 30,
     "metadata": {},
     "output_type": "execute_result"
    }
   ],
   "source": [
    "transcript"
   ]
  },
  {
   "cell_type": "code",
   "execution_count": 31,
   "id": "cb960219",
   "metadata": {},
   "outputs": [
    {
     "name": "stdout",
     "output_type": "stream",
     "text": [
      "This is a test.\n"
     ]
    }
   ],
   "source": [
    "print(transcript.text)"
   ]
  },
  {
   "cell_type": "code",
   "execution_count": null,
   "id": "435735e9",
   "metadata": {},
   "outputs": [],
   "source": []
  }
 ],
 "metadata": {
  "kernelspec": {
   "display_name": "Python 3 (ipykernel)",
   "language": "python",
   "name": "python3"
  },
  "language_info": {
   "codemirror_mode": {
    "name": "ipython",
    "version": 3
   },
   "file_extension": ".py",
   "mimetype": "text/x-python",
   "name": "python",
   "nbconvert_exporter": "python",
   "pygments_lexer": "ipython3",
   "version": "3.10.9"
  }
 },
 "nbformat": 4,
 "nbformat_minor": 5
}
